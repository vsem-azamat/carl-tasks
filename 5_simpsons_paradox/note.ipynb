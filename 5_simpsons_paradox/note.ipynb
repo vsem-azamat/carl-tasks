{
 "cells": [
  {
   "cell_type": "markdown",
   "id": "0d57f3cf",
   "metadata": {},
   "source": [
    "# Simpson's Paradox: Arizona University Admissions\n",
    "Simpson's paradox using the Arizona University admissions data."
   ]
  },
  {
   "cell_type": "markdown",
   "id": "3a91ad08",
   "metadata": {},
   "source": [
    "## 1. Load Data"
   ]
  },
  {
   "cell_type": "code",
   "execution_count": 13,
   "id": "8bdb51ba",
   "metadata": {},
   "outputs": [
    {
     "data": {
      "application/vnd.microsoft.datawrangler.viewer.v0+json": {
       "columns": [
        {
         "name": "index",
         "rawType": "int64",
         "type": "integer"
        },
        {
         "name": "Admit",
         "rawType": "object",
         "type": "string"
        },
        {
         "name": "Gender",
         "rawType": "object",
         "type": "string"
        },
        {
         "name": "Dept",
         "rawType": "object",
         "type": "string"
        },
        {
         "name": "Freq",
         "rawType": "int64",
         "type": "integer"
        }
       ],
       "ref": "bd5765ea-9e62-4576-be77-d5e0e351ef82",
       "rows": [
        [
         "0",
         "Admitted",
         "Male",
         "A",
         "512"
        ],
        [
         "1",
         "Rejected",
         "Male",
         "A",
         "313"
        ],
        [
         "2",
         "Admitted",
         "Female",
         "A",
         "89"
        ],
        [
         "3",
         "Rejected",
         "Female",
         "A",
         "19"
        ],
        [
         "4",
         "Admitted",
         "Male",
         "B",
         "353"
        ],
        [
         "5",
         "Rejected",
         "Male",
         "B",
         "207"
        ],
        [
         "6",
         "Admitted",
         "Female",
         "B",
         "17"
        ],
        [
         "7",
         "Rejected",
         "Female",
         "B",
         "8"
        ],
        [
         "8",
         "Admitted",
         "Male",
         "C",
         "120"
        ],
        [
         "9",
         "Rejected",
         "Male",
         "C",
         "205"
        ],
        [
         "10",
         "Admitted",
         "Female",
         "C",
         "202"
        ],
        [
         "11",
         "Rejected",
         "Female",
         "C",
         "391"
        ],
        [
         "12",
         "Admitted",
         "Male",
         "D",
         "138"
        ],
        [
         "13",
         "Rejected",
         "Male",
         "D",
         "279"
        ],
        [
         "14",
         "Admitted",
         "Female",
         "D",
         "131"
        ],
        [
         "15",
         "Rejected",
         "Female",
         "D",
         "244"
        ],
        [
         "16",
         "Admitted",
         "Male",
         "E",
         "53"
        ],
        [
         "17",
         "Rejected",
         "Male",
         "E",
         "138"
        ],
        [
         "18",
         "Admitted",
         "Female",
         "E",
         "94"
        ],
        [
         "19",
         "Rejected",
         "Female",
         "E",
         "299"
        ]
       ],
       "shape": {
        "columns": 4,
        "rows": 20
       }
      },
      "text/html": [
       "<div>\n",
       "<style scoped>\n",
       "    .dataframe tbody tr th:only-of-type {\n",
       "        vertical-align: middle;\n",
       "    }\n",
       "\n",
       "    .dataframe tbody tr th {\n",
       "        vertical-align: top;\n",
       "    }\n",
       "\n",
       "    .dataframe thead th {\n",
       "        text-align: right;\n",
       "    }\n",
       "</style>\n",
       "<table border=\"1\" class=\"dataframe\">\n",
       "  <thead>\n",
       "    <tr style=\"text-align: right;\">\n",
       "      <th></th>\n",
       "      <th>Admit</th>\n",
       "      <th>Gender</th>\n",
       "      <th>Dept</th>\n",
       "      <th>Freq</th>\n",
       "    </tr>\n",
       "  </thead>\n",
       "  <tbody>\n",
       "    <tr>\n",
       "      <th>0</th>\n",
       "      <td>Admitted</td>\n",
       "      <td>Male</td>\n",
       "      <td>A</td>\n",
       "      <td>512</td>\n",
       "    </tr>\n",
       "    <tr>\n",
       "      <th>1</th>\n",
       "      <td>Rejected</td>\n",
       "      <td>Male</td>\n",
       "      <td>A</td>\n",
       "      <td>313</td>\n",
       "    </tr>\n",
       "    <tr>\n",
       "      <th>2</th>\n",
       "      <td>Admitted</td>\n",
       "      <td>Female</td>\n",
       "      <td>A</td>\n",
       "      <td>89</td>\n",
       "    </tr>\n",
       "    <tr>\n",
       "      <th>3</th>\n",
       "      <td>Rejected</td>\n",
       "      <td>Female</td>\n",
       "      <td>A</td>\n",
       "      <td>19</td>\n",
       "    </tr>\n",
       "    <tr>\n",
       "      <th>4</th>\n",
       "      <td>Admitted</td>\n",
       "      <td>Male</td>\n",
       "      <td>B</td>\n",
       "      <td>353</td>\n",
       "    </tr>\n",
       "    <tr>\n",
       "      <th>5</th>\n",
       "      <td>Rejected</td>\n",
       "      <td>Male</td>\n",
       "      <td>B</td>\n",
       "      <td>207</td>\n",
       "    </tr>\n",
       "    <tr>\n",
       "      <th>6</th>\n",
       "      <td>Admitted</td>\n",
       "      <td>Female</td>\n",
       "      <td>B</td>\n",
       "      <td>17</td>\n",
       "    </tr>\n",
       "    <tr>\n",
       "      <th>7</th>\n",
       "      <td>Rejected</td>\n",
       "      <td>Female</td>\n",
       "      <td>B</td>\n",
       "      <td>8</td>\n",
       "    </tr>\n",
       "    <tr>\n",
       "      <th>8</th>\n",
       "      <td>Admitted</td>\n",
       "      <td>Male</td>\n",
       "      <td>C</td>\n",
       "      <td>120</td>\n",
       "    </tr>\n",
       "    <tr>\n",
       "      <th>9</th>\n",
       "      <td>Rejected</td>\n",
       "      <td>Male</td>\n",
       "      <td>C</td>\n",
       "      <td>205</td>\n",
       "    </tr>\n",
       "    <tr>\n",
       "      <th>10</th>\n",
       "      <td>Admitted</td>\n",
       "      <td>Female</td>\n",
       "      <td>C</td>\n",
       "      <td>202</td>\n",
       "    </tr>\n",
       "    <tr>\n",
       "      <th>11</th>\n",
       "      <td>Rejected</td>\n",
       "      <td>Female</td>\n",
       "      <td>C</td>\n",
       "      <td>391</td>\n",
       "    </tr>\n",
       "    <tr>\n",
       "      <th>12</th>\n",
       "      <td>Admitted</td>\n",
       "      <td>Male</td>\n",
       "      <td>D</td>\n",
       "      <td>138</td>\n",
       "    </tr>\n",
       "    <tr>\n",
       "      <th>13</th>\n",
       "      <td>Rejected</td>\n",
       "      <td>Male</td>\n",
       "      <td>D</td>\n",
       "      <td>279</td>\n",
       "    </tr>\n",
       "    <tr>\n",
       "      <th>14</th>\n",
       "      <td>Admitted</td>\n",
       "      <td>Female</td>\n",
       "      <td>D</td>\n",
       "      <td>131</td>\n",
       "    </tr>\n",
       "    <tr>\n",
       "      <th>15</th>\n",
       "      <td>Rejected</td>\n",
       "      <td>Female</td>\n",
       "      <td>D</td>\n",
       "      <td>244</td>\n",
       "    </tr>\n",
       "    <tr>\n",
       "      <th>16</th>\n",
       "      <td>Admitted</td>\n",
       "      <td>Male</td>\n",
       "      <td>E</td>\n",
       "      <td>53</td>\n",
       "    </tr>\n",
       "    <tr>\n",
       "      <th>17</th>\n",
       "      <td>Rejected</td>\n",
       "      <td>Male</td>\n",
       "      <td>E</td>\n",
       "      <td>138</td>\n",
       "    </tr>\n",
       "    <tr>\n",
       "      <th>18</th>\n",
       "      <td>Admitted</td>\n",
       "      <td>Female</td>\n",
       "      <td>E</td>\n",
       "      <td>94</td>\n",
       "    </tr>\n",
       "    <tr>\n",
       "      <th>19</th>\n",
       "      <td>Rejected</td>\n",
       "      <td>Female</td>\n",
       "      <td>E</td>\n",
       "      <td>299</td>\n",
       "    </tr>\n",
       "  </tbody>\n",
       "</table>\n",
       "</div>"
      ],
      "text/plain": [
       "       Admit  Gender Dept  Freq\n",
       "0   Admitted    Male    A   512\n",
       "1   Rejected    Male    A   313\n",
       "2   Admitted  Female    A    89\n",
       "3   Rejected  Female    A    19\n",
       "4   Admitted    Male    B   353\n",
       "5   Rejected    Male    B   207\n",
       "6   Admitted  Female    B    17\n",
       "7   Rejected  Female    B     8\n",
       "8   Admitted    Male    C   120\n",
       "9   Rejected    Male    C   205\n",
       "10  Admitted  Female    C   202\n",
       "11  Rejected  Female    C   391\n",
       "12  Admitted    Male    D   138\n",
       "13  Rejected    Male    D   279\n",
       "14  Admitted  Female    D   131\n",
       "15  Rejected  Female    D   244\n",
       "16  Admitted    Male    E    53\n",
       "17  Rejected    Male    E   138\n",
       "18  Admitted  Female    E    94\n",
       "19  Rejected  Female    E   299"
      ]
     },
     "execution_count": 13,
     "metadata": {},
     "output_type": "execute_result"
    }
   ],
   "source": [
    "import pandas as pd\n",
    "\n",
    "df = pd.read_csv('university.csv')\n",
    "\n",
    "df.head(20)"
   ]
  },
  {
   "cell_type": "markdown",
   "id": "07024b8f",
   "metadata": {},
   "source": [
    "## 2. Overall Admission Rates"
   ]
  },
  {
   "cell_type": "code",
   "execution_count": 5,
   "id": "88d89dcb",
   "metadata": {},
   "outputs": [
    {
     "name": "stdout",
     "output_type": "stream",
     "text": [
      "Admit   Admitted  Rejected  Acceptance_rate\n",
      "Gender                                     \n",
      "Female       557      1278         0.303542\n",
      "Male        1198      1493         0.445188\n"
     ]
    }
   ],
   "source": [
    "# Pivot table of counts\n",
    "total = df.pivot_table(\n",
    "    index='Gender',\n",
    "    columns='Admit',\n",
    "    values='Freq',\n",
    "    aggfunc='sum'\n",
    ")\n",
    "# Compute acceptance rate\n",
    "total['Acceptance_rate'] = total['Admitted'] / (total['Admitted'] + total['Rejected'])\n",
    "print(total)\n"
   ]
  },
  {
   "cell_type": "code",
   "execution_count": 12,
   "id": "e03910eb",
   "metadata": {},
   "outputs": [
    {
     "name": "stdout",
     "output_type": "stream",
     "text": [
      "A: Male: 62.1%, Female: 82.4%\n",
      "B: Male: 63.0%, Female: 68.0%\n",
      "C: Male: 36.9%, Female: 34.1%\n",
      "D: Male: 33.1%, Female: 34.9%\n",
      "E: Male: 27.7%, Female: 23.9%\n",
      "F: Male: 5.9%, Female: 7.0%\n"
     ]
    }
   ],
   "source": [
    "# Pivot by Dept and Gender\n",
    "dept = df.pivot_table(\n",
    "    index=['Dept', 'Gender'],\n",
    "    columns='Admit',\n",
    "    values='Freq',\n",
    "    aggfunc='sum'\n",
    ")\n",
    "# Compute acceptance rate\n",
    "dept['Acceptance_rate'] = dept['Admitted'] / (dept['Admitted'] + dept['Rejected'])\n",
    "# Reshape for clarity\n",
    "dept_rates = dept.reset_index().pivot(\n",
    "    index='Dept',\n",
    "    columns='Gender',\n",
    "    values='Acceptance_rate'\n",
    ")\n",
    "# print(dept_rates)\n",
    "for dept_name, row in dept_rates.iterrows():\n",
    "    print(f\"{dept_name}: Male: {row['Male']*100:.1f}%, Female: {row['Female']*100:.1f}%\")\n"
   ]
  },
  {
   "cell_type": "markdown",
   "id": "d98a2e60",
   "metadata": {},
   "source": [
    "## 4. Conclusion\n",
    "- **Simpson's Paradox:** Aggregated data shows men admitted at a higher rate (44% vs. 30%), whereas within each department, women fare as well or better.\n",
    "\n",
    "- **Explanation Validity:** The application distribution confirms that women applied more to competitive departments with lower acceptance rates, thereby lowering their overall acceptance rate. This inference is supported by the application share analysis.\n",
    "\n",
    "Subgroup differences in application patterns can invert apparent trends in aggregated data — a textbook Simpson's paradox example."
   ]
  }
 ],
 "metadata": {
  "kernelspec": {
   "display_name": ".venv",
   "language": "python",
   "name": "python3"
  },
  "language_info": {
   "codemirror_mode": {
    "name": "ipython",
    "version": 3
   },
   "file_extension": ".py",
   "mimetype": "text/x-python",
   "name": "python",
   "nbconvert_exporter": "python",
   "pygments_lexer": "ipython3",
   "version": "3.13.3"
  }
 },
 "nbformat": 4,
 "nbformat_minor": 5
}
